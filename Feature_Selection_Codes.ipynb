{
  "nbformat": 4,
  "nbformat_minor": 0,
  "metadata": {
    "colab": {
      "name": "Feature Selection Codes.ipynb",
      "provenance": [],
      "authorship_tag": "ABX9TyMRfNZrXYj93agfiFF3exDT",
      "include_colab_link": true
    },
    "kernelspec": {
      "name": "python3",
      "display_name": "Python 3"
    },
    "language_info": {
      "name": "python"
    }
  },
  "cells": [
    {
      "cell_type": "markdown",
      "metadata": {
        "id": "view-in-github",
        "colab_type": "text"
      },
      "source": [
        "<a href=\"https://colab.research.google.com/github/sankett-tericsoft/SDA/blob/main/Feature_Selection_Codes.ipynb\" target=\"_parent\"><img src=\"https://colab.research.google.com/assets/colab-badge.svg\" alt=\"Open In Colab\"/></a>"
      ]
    },
    {
      "cell_type": "code",
      "metadata": {
        "id": "a2uacNdoZmzX"
      },
      "source": [
        "# correlation code\n",
        "\n",
        "def correlation(dataset, threshold):\n",
        "  corr = dataset.corr()\n",
        "\n",
        "  # emepty set\n",
        "  column = set()\n",
        "\n",
        "  for i in range(len(corr.columns)):\n",
        "    for j in range(i):\n",
        "      if corr.iloc[i, j] > threshold:\n",
        "        features = corr.columns[i]\n",
        "        column.add(features)\n",
        "  return column"
      ],
      "execution_count": 1,
      "outputs": []
    },
    {
      "cell_type": "code",
      "metadata": {
        "colab": {
          "base_uri": "https://localhost:8080/"
        },
        "id": "Z6lVP7jRaKT9",
        "outputId": "d001685b-589e-4538-eeb1-ec9e7f24aab5"
      },
      "source": [
        "# variance inflation factor code\n",
        "\n",
        "# Import library for VIF\n",
        "from statsmodels.stats.outliers_influence import variance_inflation_factor\n",
        "\n",
        "def calc_vif(x):\n",
        "\n",
        "    # Calculating VIF\n",
        "    vif = pd.DataFrame()\n",
        "    vif[\"variables\"] = x.columns\n",
        "    vif[\"VIF\"] = [variance_inflation_factor(X.values, i) for i in range(x.shape[1])]\n",
        "\n",
        "    return(vif)\n",
        "\n",
        "# calling the function\n",
        "calc_vif(X)"
      ],
      "execution_count": 2,
      "outputs": [
        {
          "output_type": "stream",
          "name": "stderr",
          "text": [
            "/usr/local/lib/python3.7/dist-packages/statsmodels/tools/_testing.py:19: FutureWarning: pandas.util.testing is deprecated. Use the functions in the public API at pandas.testing instead.\n",
            "  import pandas.util.testing as tm\n"
          ]
        }
      ]
    },
    {
      "cell_type": "code",
      "metadata": {
        "id": "5-FDgpT-aej5"
      },
      "source": [
        ""
      ],
      "execution_count": null,
      "outputs": []
    }
  ]
}